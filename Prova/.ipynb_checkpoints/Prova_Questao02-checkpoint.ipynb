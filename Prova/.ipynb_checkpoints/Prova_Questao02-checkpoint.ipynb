{
 "cells": [
  {
   "cell_type": "code",
   "execution_count": null,
   "id": "eb73d14b-a69f-4a6d-a8a0-f3b836a8bc31",
   "metadata": {},
   "outputs": [],
   "source": [
    "# Análise Estatística de Dados e Informações\n",
    "**PPCA/UNB**\n",
    "\n",
    "---\n",
    "\n",
    "**Prova - Questão 02**  \n",
    "**Professor**: João Gabriel de Moraes Sousa  \n",
    "**Aluna**: Andreia Queiroz Correia Dummar  \n",
    "**Matrícula**: 241134680  \n",
    "**Data da Entrega**: 09/02/2025  \n",
    "**Github**: \n",
    "\n",
    "---\n",
    "\n",
    "**Aplicação**: Regressão Linear\n",
    "\n",
    "**Dados**: House Sales in King County, USA (https://www.kaggle.com/datasets/harlfoxem/housesalesprediction)"
   ]
  }
 ],
 "metadata": {
  "kernelspec": {
   "display_name": "Python 3 (ipykernel)",
   "language": "python",
   "name": "python3"
  },
  "language_info": {
   "codemirror_mode": {
    "name": "ipython",
    "version": 3
   },
   "file_extension": ".py",
   "mimetype": "text/x-python",
   "name": "python",
   "nbconvert_exporter": "python",
   "pygments_lexer": "ipython3",
   "version": "3.11.10"
  }
 },
 "nbformat": 4,
 "nbformat_minor": 5
}
