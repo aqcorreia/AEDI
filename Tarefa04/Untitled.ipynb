{
 "cells": [
  {
   "cell_type": "code",
   "execution_count": 1,
   "id": "dd2a5418-e92c-4c49-ba46-7250db455421",
   "metadata": {},
   "outputs": [
    {
     "name": "stdout",
     "output_type": "stream",
     "text": [
      "     X1   X2   X3\n",
      "X1  1.0  1.0  0.0\n",
      "X2  1.0  1.0  0.0\n",
      "X3  0.0  0.0  1.0\n"
     ]
    }
   ],
   "source": [
    "import pandas as pd\n",
    "\n",
    "# Criando um exemplo de DataFrame\n",
    "data = {'X1': [1, 2, 3, 4, 5],\n",
    "        'X2': [2, 4, 6, 8, 10],  # X2 é 2 * X1\n",
    "        'X3': [5, 3, 6, 9, 2]}\n",
    "\n",
    "df = pd.DataFrame(data)\n",
    "\n",
    "# Calculando a matriz de correlação\n",
    "correlation_matrix = df.corr()\n",
    "print(correlation_matrix)\n"
   ]
  },
  {
   "cell_type": "code",
   "execution_count": null,
   "id": "8f7c6b17-2b34-41f8-ac04-a2a9af90cf95",
   "metadata": {},
   "outputs": [],
   "source": []
  }
 ],
 "metadata": {
  "kernelspec": {
   "display_name": "Python 3 (ipykernel)",
   "language": "python",
   "name": "python3"
  },
  "language_info": {
   "codemirror_mode": {
    "name": "ipython",
    "version": 3
   },
   "file_extension": ".py",
   "mimetype": "text/x-python",
   "name": "python",
   "nbconvert_exporter": "python",
   "pygments_lexer": "ipython3",
   "version": "3.11.10"
  }
 },
 "nbformat": 4,
 "nbformat_minor": 5
}
